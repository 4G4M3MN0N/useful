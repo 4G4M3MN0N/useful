{
 "cells": [
  {
   "cell_type": "code",
   "execution_count": 1,
   "metadata": {},
   "outputs": [],
   "source": [
    "import os\n",
    "from zipfile import ZipFile"
   ]
  },
  {
   "cell_type": "markdown",
   "metadata": {},
   "source": [
    "#### ZipFile object accepts a string representing a file path and a mode e.g. 'w' for write.\n",
    "#### We will:\n",
    "* iterate through a folder\n",
    "* create a zipfile for each folder  \n",
    "* walk through the contents of the folder and write everything to the zipfile object (in this case we are not writing existing Zipfiles).\n"
   ]
  },
  {
   "cell_type": "code",
   "execution_count": 147,
   "metadata": {
    "scrolled": true
   },
   "outputs": [
    {
     "data": {
      "text/plain": [
       "'C:\\\\Users\\\\Mike.Hamilton\\\\Desktop\\\\test zip'"
      ]
     },
     "execution_count": 147,
     "metadata": {},
     "output_type": "execute_result"
    }
   ],
   "source": [
    "os.getcwd()"
   ]
  },
  {
   "cell_type": "code",
   "execution_count": 153,
   "metadata": {},
   "outputs": [
    {
     "name": "stdout",
     "output_type": "stream",
     "text": [
      "Zipfile \"<zipfile.ZipFile filename='C:/Users/Mike.Hamilton/Desktop/AIS English.zip' mode='w'>\" to be created\n",
      "Zipfile \"<zipfile.ZipFile filename='C:/Users/Mike.Hamilton/Desktop/AIS German.zip' mode='w'>\" to be created\n",
      "Zipfile \"<zipfile.ZipFile filename='C:/Users/Mike.Hamilton/Desktop/AO.zip' mode='w'>\" to be created\n"
     ]
    }
   ],
   "source": [
    "import os\n",
    "from zipfile import ZipFile\n",
    "\n",
    "original_directory = os.getcwd()\n",
    "folder_with_files_to_zip = r'C:/Users/Mike.Hamilton/Desktop/test zip/' # r'C:/nice/place/to_get_stuff/'\n",
    "os.chdir(folder_with_files_to_zip)\n",
    "# place to put our finished files\n",
    "out_location = r'C:/Users/Mike.Hamilton/Desktop/'\n",
    "\n",
    "# loop through the folders\n",
    "for f in os.listdir():\n",
    "    # if no extention i.e. if not a file\n",
    "    if not os.path.splitext(f)[1]:\n",
    "    # create a zipfile in the out location\n",
    "        with ZipFile(out_location + f + '.zip', 'w') as zipObj:\n",
    "            print(f'Zipfile \\\"{repr(zipObj)}\\\" to be created')\n",
    "            # Iterate over all the files in directory\n",
    "            for foldername, _, filenames in os.walk(f):\n",
    "                for filename in filenames:\n",
    "                    # create complete filepath of file in directory\n",
    "                    filepath = os.path.join(foldername, filename)\n",
    "                    # Add file to zip\n",
    "                    zipObj.write(filepath)\n",
    "\n",
    "# return us to our original Directory\n",
    "os.chir(original_directory)"
   ]
  },
  {
   "cell_type": "code",
   "execution_count": 156,
   "metadata": {},
   "outputs": [
    {
     "name": "stdout",
     "output_type": "stream",
     "text": [
      "Zipfile \"<zipfile.ZipFile filename='C:/Users/Mike.Hamilton/Desktop/AIS English.zip' mode='w'>\" to be created\n",
      "Zipfile \"<zipfile.ZipFile filename='C:/Users/Mike.Hamilton/Desktop/AIS German.zip' mode='w'>\" to be created\n",
      "Zipfile \"<zipfile.ZipFile filename='C:/Users/Mike.Hamilton/Desktop/AO.zip' mode='w'>\" to be created\n"
     ]
    }
   ],
   "source": [
    "import os\n",
    "from zipfile import ZipFile\n",
    "\n",
    "# zipping works easiest when we use the current directory so we'll save our current directory,\n",
    "# change it and then change it back \n",
    "original_directory = os.getcwd()\n",
    "folder_with_files_to_zip = r'C:/Users/Mike.Hamilton/Desktop/test zip/' # r'C:/nice/place/to_get_stuff/'\n",
    "os.chdir(folder_with_files_to_zip)\n",
    "# place to put our finished files\n",
    "out_location = r'C:/Users/Mike.Hamilton/Desktop/'\n",
    "\n",
    "# loop through the folders\n",
    "for f in os.listdir():\n",
    "    # if no extention i.e. if not a file\n",
    "    if not os.path.splitext(f)[1]:\n",
    "    # create a zipfile in the out location\n",
    "        with ZipFile(out_location + f + '.zip', 'w') as zipObj:\n",
    "            print(f'Zipfile \\\"{repr(zipObj)}\\\" to be created')\n",
    "            os.chdir(f)\n",
    "            inner_f = os.getcwd()\n",
    "            # Iterate over all the files in directory\n",
    "            for foldername, _, filenames in os.walk(inner_f):\n",
    "                for filename in filenames:\n",
    "                    # create complete filepath of file in directory\n",
    "                    filepath = os.path.join(os.path.relpath(foldername), filename)\n",
    "                    # Add file to zip\n",
    "                    zipObj.write(filepath)\n",
    "            os.chdir(folder_with_files_to_zip)\n",
    "\n",
    "# return us to our original Directory\n",
    "os.chir(original_directory)"
   ]
  },
  {
   "cell_type": "code",
   "execution_count": null,
   "metadata": {},
   "outputs": [],
   "source": [
    "os.chdir(original_directory)"
   ]
  }
 ],
 "metadata": {
  "kernelspec": {
   "display_name": "Python 3",
   "language": "python",
   "name": "python3"
  },
  "language_info": {
   "codemirror_mode": {
    "name": "ipython",
    "version": 3
   },
   "file_extension": ".py",
   "mimetype": "text/x-python",
   "name": "python",
   "nbconvert_exporter": "python",
   "pygments_lexer": "ipython3",
   "version": "3.7.3"
  }
 },
 "nbformat": 4,
 "nbformat_minor": 2
}
