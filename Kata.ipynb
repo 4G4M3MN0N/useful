{
 "cells": [
  {
   "cell_type": "code",
   "execution_count": 1,
   "metadata": {},
   "outputs": [],
   "source": [
    "# this just changes the size of the cells\n",
    "from IPython.core.display import display, HTML\n",
    "display(HTML(\"<style>.container { width:80% !important; }</style>\"))"
   ]
  },
  {
   "cell_type": "code",
   "execution_count": 2,
   "metadata": {},
   "outputs": [],
   "source": [
    "def digital_root(n):\n",
    "    if len(str(n)) == 1:\n",
    "        return n\n",
    "    else:\n",
    "        return digital_root(sum([int(x) for x in list(str(n))]))  "
   ]
  },
  {
   "cell_type": "code",
   "execution_count": 3,
   "metadata": {},
   "outputs": [
    {
     "data": {
      "text/plain": [
       "2"
      ]
     },
     "execution_count": 3,
     "metadata": {},
     "output_type": "execute_result"
    }
   ],
   "source": [
    "digital_root(493193)"
   ]
  },
  {
   "cell_type": "raw",
   "metadata": {},
   "source": [
    "Given an array, find the integer that appears an odd number of times.\n",
    "\n",
    "There will always be only one integer that appears an odd number of times."
   ]
  },
  {
   "cell_type": "code",
   "execution_count": 4,
   "metadata": {},
   "outputs": [],
   "source": [
    "from collections import Counter\n",
    "def find_it(seq):\n",
    "    c = Counter(seq)\n",
    "    return[x[0] for x in c.items() if x[1] % 2 != 0]"
   ]
  },
  {
   "cell_type": "code",
   "execution_count": 5,
   "metadata": {},
   "outputs": [
    {
     "data": {
      "text/plain": [
       "[5]"
      ]
     },
     "execution_count": 5,
     "metadata": {},
     "output_type": "execute_result"
    }
   ],
   "source": [
    "find_it([20,1,-1,2,-2,3,3,5,5,1,2,4,20,4,-1,-2,5])"
   ]
  },
  {
   "cell_type": "raw",
   "metadata": {},
   "source": [
    "Implement a function that adds two numbers together and returns their sum in binary. The conversion can be done before, or after the addition.\n",
    "\n",
    "The binary number returned should be a string."
   ]
  },
  {
   "cell_type": "code",
   "execution_count": 6,
   "metadata": {},
   "outputs": [],
   "source": [
    "def add_binary(a,b):\n",
    "    return bin(a + b)[2:]"
   ]
  },
  {
   "cell_type": "code",
   "execution_count": 7,
   "metadata": {},
   "outputs": [
    {
     "data": {
      "text/plain": [
       "'1'"
      ]
     },
     "execution_count": 7,
     "metadata": {},
     "output_type": "execute_result"
    }
   ],
   "source": [
    "add_binary(0,1)"
   ]
  },
  {
   "cell_type": "raw",
   "metadata": {},
   "source": [
    "You might know some pretty large perfect squares. But what about the NEXT one?\n",
    "\n",
    "Complete the findNextSquare method that finds the next integral perfect square after the one passed as a parameter. Recall that an integral perfect square is an integer n such that sqrt(n) is also an integer.\n",
    "\n",
    "If the parameter is itself not a perfect square, than -1 should be returned. You may assume the parameter is positive.\n",
    "\n",
    "Examples:\n",
    "\n",
    "findNextSquare(121) --> returns 144\n",
    "findNextSquare(625) --> returns 676\n",
    "findNextSquare(114) --> returns -1 since 114 is not a perfect"
   ]
  },
  {
   "cell_type": "code",
   "execution_count": 8,
   "metadata": {},
   "outputs": [],
   "source": [
    "def find_next_square(sq):\n",
    "    import math\n",
    "    if math.modf(math.sqrt(sq))[0] != 0:\n",
    "        return -1\n",
    "    x = sq + 1\n",
    "    while math.modf(math.sqrt(x))[0] != 0:\n",
    "        x += 1\n",
    "    return x"
   ]
  },
  {
   "cell_type": "code",
   "execution_count": 9,
   "metadata": {
    "scrolled": true
   },
   "outputs": [
    {
     "data": {
      "text/plain": [
       "144"
      ]
     },
     "execution_count": 9,
     "metadata": {},
     "output_type": "execute_result"
    }
   ],
   "source": [
    "find_next_square(121)"
   ]
  },
  {
   "cell_type": "raw",
   "metadata": {},
   "source": [
    "Create Phone Number"
   ]
  },
  {
   "cell_type": "code",
   "execution_count": 10,
   "metadata": {},
   "outputs": [],
   "source": [
    "def create_phone_number(n):\n",
    "    x = ''.join([str(x) for x in n])\n",
    "    return f'({x[:3]}) {x[3:6]}-{x[6:]}'"
   ]
  },
  {
   "cell_type": "code",
   "execution_count": 11,
   "metadata": {},
   "outputs": [
    {
     "data": {
      "text/plain": [
       "'(123) 456-7890'"
      ]
     },
     "execution_count": 11,
     "metadata": {},
     "output_type": "execute_result"
    }
   ],
   "source": [
    "create_phone_number([1, 2, 3, 4, 5, 6, 7, 8, 9, 0])"
   ]
  },
  {
   "cell_type": "raw",
   "metadata": {},
   "source": [
    "Given: an array containing hashes of names\n",
    "\n",
    "Return: a string formatted as a list of names separated by commas except for the last two names, which should be separated by an ampersand.\n",
    "\n",
    "Example:\n",
    "\n",
    "namelist([ {'name': 'Bart'}, {'name': 'Lisa'}, {'name': 'Maggie'} ])\n",
    "# returns 'Bart, Lisa & Maggie'\n",
    "\n",
    "namelist([ {'name': 'Bart'}, {'name': 'Lisa'} ])\n",
    "# returns 'Bart & Lisa'\n",
    "\n",
    "namelist([ {'name': 'Bart'} ])\n",
    "# returns 'Bart'\n",
    "\n",
    "namelist([])\n",
    "# returns ''\n",
    "Note: all the hashes are pre-validated and will only contain A-Z, a-z, '-' and '.'."
   ]
  },
  {
   "cell_type": "code",
   "execution_count": 12,
   "metadata": {},
   "outputs": [],
   "source": [
    "def namelist(names):\n",
    "    if len(names) == 0:\n",
    "        return ''\n",
    "    if len(names) == 1:\n",
    "        return names[0]['name']\n",
    "    return ' & '.join([', '.join(x['name'] for x in names[:-1]), names[-1:][0]['name']])"
   ]
  },
  {
   "cell_type": "code",
   "execution_count": 13,
   "metadata": {
    "scrolled": true
   },
   "outputs": [
    {
     "data": {
      "text/plain": [
       "'Bart, Lisa & Maggie'"
      ]
     },
     "execution_count": 13,
     "metadata": {},
     "output_type": "execute_result"
    }
   ],
   "source": [
    "x = [{'name': 'Bart'}, {'name': 'Lisa'}, {'name': 'Maggie'}]\n",
    "namelist(x)"
   ]
  },
  {
   "cell_type": "raw",
   "metadata": {},
   "source": [
    "You have an array of numbers.\n",
    "Your task is to sort ascending odd numbers but even numbers must be on their places.\n",
    "\n",
    "Zero isn't an odd number and you don't need to move it. If you have an empty array, you need to return it.\n",
    "\n",
    "Example\n",
    "\n",
    "sort_array([5, 3, 2, 8, 1, 4]) == [1, 3, 2, 8, 5, 4]5 or 6"
   ]
  },
  {
   "cell_type": "code",
   "execution_count": 14,
   "metadata": {},
   "outputs": [],
   "source": [
    "def sort_array(a):\n",
    "    s = (x for x in sorted(x for x in a if x % 2 == 1))\n",
    "    t = []\n",
    "    for x in a:\n",
    "        if x % 2 == 0:\n",
    "            t.append(x)\n",
    "        else:\n",
    "            t.append(next(s))\n",
    "    return t"
   ]
  },
  {
   "cell_type": "code",
   "execution_count": 15,
   "metadata": {},
   "outputs": [
    {
     "data": {
      "text/plain": [
       "<generator object <genexpr> at 0x0000022408829CF0>"
      ]
     },
     "execution_count": 15,
     "metadata": {},
     "output_type": "execute_result"
    }
   ],
   "source": [
    "a = [5, 3, 2, 8, 1, 4]\n",
    "(x for x in sorted(x for x in a if x % 2 == 1))"
   ]
  },
  {
   "cell_type": "code",
   "execution_count": 16,
   "metadata": {},
   "outputs": [
    {
     "data": {
      "text/plain": [
       "[1, 3, 2, 8, 5, 4]"
      ]
     },
     "execution_count": 16,
     "metadata": {},
     "output_type": "execute_result"
    }
   ],
   "source": [
    "sort_array(a)"
   ]
  },
  {
   "cell_type": "raw",
   "metadata": {},
   "source": [
    "Given two arrays a and b write a function comp(a, b) (compSame(a, b) in Clojure) that checks whether the two arrays have the \"same\" elements, with the same multiplicities. \"Same\" means, here, that the elements in b are the elements in a squared, regardless of the order.\n",
    "\n",
    "Examples\n",
    "Valid arrays\n",
    "a = [121, 144, 19, 161, 19, 144, 19, 11]  \n",
    "b = [121, 14641, 20736, 361, 25921, 361, 20736, 361]\n",
    "comp(a, b) returns true because in b 121 is the square of 11, 14641 is the square of 121, 20736 the square of 144, 361 the square of 19, 25921 the square of 161, and so on. It gets obvious if we write b's elements in terms of squares:\n",
    "\n",
    "a = [121, 144, 19, 161, 19, 144, 19, 11] \n",
    "b = [11*11, 121*121, 144*144, 19*19, 161*161, 19*19, 144*144, 19*19]"
   ]
  },
  {
   "cell_type": "code",
   "execution_count": 17,
   "metadata": {},
   "outputs": [],
   "source": [
    "a1 = [121, 144, 19, 161, 19, 144, 19, 11]\n",
    "a2 = [11 * 11, 121 * 121, 144 * 144, 19 * 19, 161 * 161, 19 * 19, 144 * 144, 19 * 19]"
   ]
  },
  {
   "cell_type": "code",
   "execution_count": 18,
   "metadata": {},
   "outputs": [],
   "source": [
    "def comp(array1, array2):\n",
    "    if type(array1) == list and type(array2) == list:\n",
    "        return sorted([x * x for x in array1]) == sorted(array2)\n",
    "    return False"
   ]
  },
  {
   "cell_type": "code",
   "execution_count": 19,
   "metadata": {},
   "outputs": [
    {
     "data": {
      "text/plain": [
       "True"
      ]
     },
     "execution_count": 19,
     "metadata": {},
     "output_type": "execute_result"
    }
   ],
   "source": [
    "comp(a1, a2)"
   ]
  },
  {
   "cell_type": "code",
   "execution_count": 20,
   "metadata": {},
   "outputs": [],
   "source": [
    "b1 = None\n",
    "b2 = None"
   ]
  },
  {
   "cell_type": "code",
   "execution_count": 21,
   "metadata": {},
   "outputs": [
    {
     "data": {
      "text/plain": [
       "False"
      ]
     },
     "execution_count": 21,
     "metadata": {},
     "output_type": "execute_result"
    }
   ],
   "source": [
    "comp(b1, b2)"
   ]
  },
  {
   "cell_type": "code",
   "execution_count": 22,
   "metadata": {},
   "outputs": [],
   "source": [
    "c1 = []\n",
    "c2 = None"
   ]
  },
  {
   "cell_type": "code",
   "execution_count": 23,
   "metadata": {
    "scrolled": true
   },
   "outputs": [
    {
     "data": {
      "text/plain": [
       "False"
      ]
     },
     "execution_count": 23,
     "metadata": {},
     "output_type": "execute_result"
    }
   ],
   "source": [
    "comp(c1, c2)"
   ]
  },
  {
   "cell_type": "code",
   "execution_count": 24,
   "metadata": {},
   "outputs": [
    {
     "data": {
      "text/plain": [
       "True"
      ]
     },
     "execution_count": 24,
     "metadata": {},
     "output_type": "execute_result"
    }
   ],
   "source": [
    "type([]) == list"
   ]
  },
  {
   "cell_type": "raw",
   "metadata": {},
   "source": [
    "Create a function taking a positive integer as its parameter and returning a string containing the Roman Numeral representation of that integer.\n",
    "\n",
    "Modern Roman numerals are written by expressing each digit separately starting with the left most digit and skipping any digit with a value of zero. In Roman numerals 1990 is rendered: 1000=M, 900=CM, 90=XC; resulting in MCMXC. 2008 is written as 2000=MM, 8=VIII; or MMVIII. 1666 uses each Roman symbol in descending order: MDCLXVI."
   ]
  },
  {
   "cell_type": "code",
   "execution_count": 25,
   "metadata": {},
   "outputs": [],
   "source": [
    "def solution(n):\n",
    "    print(n)\n",
    "    dct = {0 : {0 : '', 1 : 'I', 2 : 'II', 3 : 'III' , 4 : 'IV', 5 :'V', 6 : 'VI', 7 : 'VII', 8 : 'VIII', 9 : 'IX'},\n",
    "           1 : {0 : '', 1 : 'X', 2 : 'XX', 3 : 'XXX', 4 : 'XL', 5 : 'L', 6 : 'LX', 7 : 'LXX', 8 : 'LXXX', 9 : 'XC'},\n",
    "           2 : {0 : '', 1: 'C', 2 : 'CC', 3 : 'CCC', 4 : 'CD', 5 : 'D', 6 : 'DC', 7 : 'DCC', 8 : 'DCCC', 9 : 'CM'},\n",
    "           3 : {0 : '', 1: 'M', 2 : 'MM', 3 : 'MMM'}}\n",
    "    f = list(str(n))\n",
    "    f.reverse()\n",
    "    num = [dct[i][int(v)] for i, v in enumerate(f)]\n",
    "    num.reverse()\n",
    "    return ''.join(num)"
   ]
  },
  {
   "cell_type": "code",
   "execution_count": 26,
   "metadata": {
    "scrolled": false
   },
   "outputs": [
    {
     "name": "stdout",
     "output_type": "stream",
     "text": [
      "345\n"
     ]
    },
    {
     "data": {
      "text/plain": [
       "'CCCXLV'"
      ]
     },
     "execution_count": 26,
     "metadata": {},
     "output_type": "execute_result"
    }
   ],
   "source": [
    "solution(345)"
   ]
  },
  {
   "cell_type": "raw",
   "metadata": {},
   "source": [
    "Your task is to sort a given string. Each word in the string will contain a single number. This number is the position the word should have in the result.\n",
    "\n",
    "Note: Numbers can be from 1 to 9. So 1 will be the first word (not 0).\n",
    "\n",
    "If the input string is empty, return an empty string. The words in the input String will only contain valid consecutive numbers.\n",
    "\n",
    "Examples\n",
    "\"is2 Thi1s T4est 3a\"  -->  \"Thi1s is2 3a T4est\"\n",
    "\"4of Fo1r pe6ople g3ood th5e the2\"  -->  \"Fo1r the2 g3ood 4of th5e pe6ople\"\n",
    "\"\"  -->  \"\""
   ]
  },
  {
   "cell_type": "code",
   "execution_count": 27,
   "metadata": {},
   "outputs": [],
   "source": [
    "def order(s):\n",
    "    z = [(x, [z for z in x if z.isnumeric()]) for x in s.split()]\n",
    "    z.sort(key=lambda a : a[1][0])\n",
    "    return str(' '.join([str(x[0]) for x in z])) "
   ]
  },
  {
   "cell_type": "code",
   "execution_count": 28,
   "metadata": {},
   "outputs": [
    {
     "data": {
      "text/plain": [
       "'Fo1r the2 g3ood 4of th5e pe6ople'"
      ]
     },
     "execution_count": 28,
     "metadata": {},
     "output_type": "execute_result"
    }
   ],
   "source": [
    "order(\"4of Fo1r pe6ople g3ood th5e the2\")"
   ]
  },
  {
   "cell_type": "raw",
   "metadata": {},
   "source": [
    "You are going to be given an array of integers. Your job is to take that array and find an index N where the sum of the integers to the left of N is equal to the sum of the integers to the right of N. If there is no index that would make this happen, return -1.\n",
    "\n",
    "For example:\n",
    "Let's say you are given the array {1,2,3,4,3,2,1}: Your function will return the index 3, because at the 3rd position of the array, the sum of left side of the index ({1,2,3}) and the sum of the right side of the index ({3,2,1}) both equal 6.\n",
    "\n",
    "Let's look at another one.\n",
    "You are given the array {1,100,50,-51,1,1}: Your function will return the index 1, because at the 1st position of the array, the sum of left side of the index ({1}) and the sum of the right side of the index ({50,-51,1,1}) both equal 1.\n",
    "\n",
    "Last one:\n",
    "You are given the array {20,10,-80,10,10,15,35}\n",
    "At index 0 the left side is {}\n",
    "The right side is {10,-80,10,10,15,35}\n",
    "They both are equal to 0 when added. (Empty arrays are equal to 0 in this problem)\n",
    "Index 0 is the place where the left side and right side are equal.\n",
    "\n",
    "Note: Please remember that in most programming/scripting languages the index of an array starts at 0.\n",
    "\n",
    "Input:\n",
    "An integer array of length 0 < arr < 1000. The numbers in the array can be any integer positive or negative.\n",
    "\n",
    "Output:\n",
    "The lowest index N where the side to the left of N is equal to the side to the right of N. If you do not find an index that fits these rules, then you will return -1.\n",
    "\n",
    "Note:\n",
    "If you are given an array with multiple answers, return the lowest correct index."
   ]
  },
  {
   "cell_type": "code",
   "execution_count": 29,
   "metadata": {},
   "outputs": [],
   "source": [
    "def find_even_index(arr):\n",
    "    x = [i for i, v in enumerate(arr) if sum(arr[:i]) == sum(arr[i + 1:])]\n",
    "    if x:\n",
    "        return x[0]\n",
    "    return -1       "
   ]
  },
  {
   "cell_type": "code",
   "execution_count": 30,
   "metadata": {},
   "outputs": [
    {
     "data": {
      "text/plain": [
       "3"
      ]
     },
     "execution_count": 30,
     "metadata": {},
     "output_type": "execute_result"
    }
   ],
   "source": [
    "a1 = [1, 2, 3, 4, 3, 2, 1]\n",
    "a2 = [1, 100, 50, -51, 1, 1]\n",
    "find_even_index(a1)"
   ]
  },
  {
   "cell_type": "code",
   "execution_count": 31,
   "metadata": {},
   "outputs": [
    {
     "name": "stdout",
     "output_type": "stream",
     "text": [
      "no dude\n",
      "no otherdude\n"
     ]
    }
   ],
   "source": [
    "if [] : print('dude')\n",
    "if '' : print('otherdude')\n",
    "if not [] : print('no dude')\n",
    "if not '' : print('no otherdude')"
   ]
  },
  {
   "cell_type": "code",
   "execution_count": 32,
   "metadata": {},
   "outputs": [
    {
     "data": {
      "text/plain": [
       "True"
      ]
     },
     "execution_count": 32,
     "metadata": {},
     "output_type": "execute_result"
    }
   ],
   "source": [
    "2 in [1,2]"
   ]
  },
  {
   "cell_type": "raw",
   "metadata": {},
   "source": [
    "#Find the missing letter\n",
    "\n",
    "Write a method that takes an array of consecutive (increasing) letters as input and that returns the missing letter in the array.\n",
    "\n",
    "You will always get an valid array. And it will be always exactly one letter be missing. The length of the array will always be at least 2.\n",
    "The array will always contain letters in only one case.\n",
    "\n",
    "Example:\n",
    "\n",
    "['a','b','c','d','f'] -> 'e' ['O','Q','R','S'] -> 'P'\n",
    "\n",
    "[\"a\",\"b\",\"c\",\"d\",\"f\"] -> \"e\"\n",
    "[\"O\",\"Q\",\"R\",\"S\"] -> \"P\""
   ]
  },
  {
   "cell_type": "code",
   "execution_count": 33,
   "metadata": {},
   "outputs": [],
   "source": [
    "def find_missing_letter(chars):\n",
    "    return [chr(ord(chars[i - 1]) + 1) for i in range(1, len(chars)) if ord(chars[i]) != ord(chars[i - 1]) + 1][0]"
   ]
  },
  {
   "cell_type": "code",
   "execution_count": 34,
   "metadata": {},
   "outputs": [],
   "source": [
    "a1 = ['a', 'b', 'c', 'd', 'f',]"
   ]
  },
  {
   "cell_type": "code",
   "execution_count": 35,
   "metadata": {},
   "outputs": [
    {
     "name": "stdout",
     "output_type": "stream",
     "text": [
      "1: 5\n",
      "2: Fail\n",
      "3: 4\n"
     ]
    },
    {
     "data": {
      "text/plain": [
       "[0, 1, 2, 3, 4]"
      ]
     },
     "execution_count": 35,
     "metadata": {},
     "output_type": "execute_result"
    }
   ],
   "source": [
    "print(f'1: {len(a1)}')\n",
    "try:\n",
    "    print(f'2: {a1[len(a1)]}')\n",
    "except:\n",
    "    print('2: Fail')\n",
    "try:\n",
    "    print(f'3: {max(range(len(a1)))}')\n",
    "except:\n",
    "    print(f'3: {max(range(len(a1)))}')\n",
    "    \n",
    "[x for x in range(0, len(a1))]"
   ]
  },
  {
   "cell_type": "code",
   "execution_count": 36,
   "metadata": {},
   "outputs": [
    {
     "data": {
      "text/plain": [
       "'e'"
      ]
     },
     "execution_count": 36,
     "metadata": {},
     "output_type": "execute_result"
    }
   ],
   "source": [
    "find_missing_letter(a1)"
   ]
  },
  {
   "cell_type": "code",
   "execution_count": 37,
   "metadata": {
    "scrolled": true
   },
   "outputs": [
    {
     "name": "stdout",
     "output_type": "stream",
     "text": [
      "1.38 µs ± 41 ns per loop (mean ± std. dev. of 7 runs, 1000000 loops each)\n"
     ]
    }
   ],
   "source": [
    "%timeit find_missing_letter(a1)"
   ]
  },
  {
   "cell_type": "raw",
   "metadata": {},
   "source": [
    "The marketing team is spending way too much time typing in hashtags.\n",
    "Let's help them with our own Hashtag Generator!\n",
    "\n",
    "Here's the deal:\n",
    "\n",
    "It must start with a hashtag (#).\n",
    "All words must have their first letter capitalized.\n",
    "If the final result is longer than 140 chars it must return false.\n",
    "If the input or the result is an empty string it must return false.\n",
    "Examples\n",
    "\" Hello there thanks for trying my Kata\"  =>  \"#HelloThereThanksForTryingMyKata\"\n",
    "\"    Hello     World   \"                  =>  \"#HelloWorld\"\n",
    "\"\"                                        =>  false"
   ]
  },
  {
   "cell_type": "code",
   "execution_count": 38,
   "metadata": {},
   "outputs": [],
   "source": [
    "def generate_hashtag(s):\n",
    "    if s:\n",
    "        x = '#' + ''.join([x[0].upper() + ''.join([y.lower() for y in x[1:]]) for x in s.split()])\n",
    "        return x if len(x) < 141 else False\n",
    "    return False"
   ]
  },
  {
   "cell_type": "code",
   "execution_count": 39,
   "metadata": {},
   "outputs": [],
   "source": [
    "s1 = 'CodeWars is nice'\n",
    "s2 = ''\n",
    "s3 = 'Looooooooooooooooooooooooooooooooooooooooooooooooooooooooooooooooooooooooooooooooooooooooooooooooooooooooooooooooooooooooooooooooooooooooooooooooooooooooooong Cat'\n",
    "s4 = 'Codewars      '\n",
    "s5 = 'codewars  is  nice'"
   ]
  },
  {
   "cell_type": "code",
   "execution_count": 40,
   "metadata": {},
   "outputs": [
    {
     "data": {
      "text/plain": [
       "'#CodewarsIsNice'"
      ]
     },
     "execution_count": 40,
     "metadata": {},
     "output_type": "execute_result"
    }
   ],
   "source": [
    "generate_hashtag(s5)"
   ]
  },
  {
   "cell_type": "code",
   "execution_count": 41,
   "metadata": {},
   "outputs": [
    {
     "name": "stdout",
     "output_type": "stream",
     "text": [
      "172 ns ± 14.8 ns per loop (mean ± std. dev. of 7 runs, 1000000 loops each)\n"
     ]
    }
   ],
   "source": [
    "%timeit s1.capitalize()"
   ]
  },
  {
   "cell_type": "code",
   "execution_count": 42,
   "metadata": {
    "scrolled": true
   },
   "outputs": [
    {
     "name": "stdout",
     "output_type": "stream",
     "text": [
      "202 ns ± 6.5 ns per loop (mean ± std. dev. of 7 runs, 1000000 loops each)\n"
     ]
    }
   ],
   "source": [
    "%timeit s1.title()"
   ]
  },
  {
   "cell_type": "code",
   "execution_count": 43,
   "metadata": {
    "scrolled": true
   },
   "outputs": [
    {
     "name": "stdout",
     "output_type": "stream",
     "text": [
      "2.5 µs ± 104 ns per loop (mean ± std. dev. of 7 runs, 100000 loops each)\n"
     ]
    }
   ],
   "source": [
    "%timeit ''.join([x[0].upper() + ''.join([y.lower() for y in x[1:]]) for x in s1.split()])"
   ]
  },
  {
   "cell_type": "raw",
   "metadata": {},
   "source": [
    "Pete likes to bake some cakes. He has some recipes and ingredients. Unfortunately he is not good in maths. Can you help him to find out, how many cakes he could bake considering his recipes?\n",
    "\n",
    "Write a function cakes(), which takes the recipe (object) and the available ingredients (also an object) and returns the maximum number of cakes Pete can bake (integer). For simplicity there are no units for the amounts (e.g. 1 lb of flour or 200 g of sugar are simply 1 or 200). Ingredients that are not present in the objects, can be considered as 0.\n",
    "\n",
    "Examples:\n",
    "\n",
    "# must return 2\n",
    "cakes({flour: 500, sugar: 200, eggs: 1}, {flour: 1200, sugar: 1200, eggs: 5, milk: 200})\n",
    "# must return 0\n",
    "cakes({apples: 3, flour: 300, sugar: 150, milk: 100, oil: 100}, {sugar: 500, flour: 2000, milk: 2000})"
   ]
  },
  {
   "cell_type": "code",
   "execution_count": 44,
   "metadata": {},
   "outputs": [],
   "source": [
    "recipe , store = ({'flour': 500, 'sugar': 200, 'eggs': 1}, {'flour': 1200, 'sugar': 1200, 'eggs': 5, 'milk': 200})\n",
    "\n",
    "def cakes2(recipe, store):\n",
    "# it must find the item by key in the other list floor divide and take the min returned value\n",
    "    tbl = []\n",
    "    for k, v in recipe.items():\n",
    "        if k not in store: return 0\n",
    "        tbl.append(store[k]//v)\n",
    "    return min(tbl)\n",
    "        "
   ]
  },
  {
   "cell_type": "code",
   "execution_count": 45,
   "metadata": {},
   "outputs": [
    {
     "data": {
      "text/plain": [
       "2"
      ]
     },
     "execution_count": 45,
     "metadata": {},
     "output_type": "execute_result"
    }
   ],
   "source": [
    "cakes2(recipe, store)"
   ]
  },
  {
   "cell_type": "code",
   "execution_count": 46,
   "metadata": {},
   "outputs": [
    {
     "name": "stdout",
     "output_type": "stream",
     "text": [
      "Help on method_descriptor:\n",
      "\n",
      "get(self, key, default=None, /)\n",
      "    Return the value for key if key is in the dictionary, else default.\n",
      "\n"
     ]
    }
   ],
   "source": [
    "# learning\n",
    "help(dict.get)\n",
    "# this is the easy defualt vlaue provider!!!"
   ]
  },
  {
   "cell_type": "code",
   "execution_count": 47,
   "metadata": {},
   "outputs": [],
   "source": [
    "def cakes(recipe, store):\n",
    "    return min([int(store[x[0]] / x[1]) if x[0] in store else 0 for x in recipe.items()])"
   ]
  },
  {
   "cell_type": "code",
   "execution_count": 48,
   "metadata": {},
   "outputs": [],
   "source": [
    "def cakes(recipe, store):\n",
    "    return min([int(store.get(x, 0) / y) for x, y in recipe.items()])"
   ]
  },
  {
   "cell_type": "code",
   "execution_count": 49,
   "metadata": {},
   "outputs": [
    {
     "data": {
      "text/plain": [
       "2"
      ]
     },
     "execution_count": 49,
     "metadata": {},
     "output_type": "execute_result"
    }
   ],
   "source": [
    "r , a = ({'flour': 500, 'sugar': 200, 'eggs': 1}, {'flour': 1200, 'sugar': 1200, 'eggs': 5, 'milk': 200})\n",
    "cakes(r, a)"
   ]
  },
  {
   "cell_type": "code",
   "execution_count": 50,
   "metadata": {
    "scrolled": true
   },
   "outputs": [
    {
     "data": {
      "text/plain": [
       "[1200, 1200, 5]"
      ]
     },
     "execution_count": 50,
     "metadata": {},
     "output_type": "execute_result"
    }
   ],
   "source": [
    "[a.get(k, 'Dude') for k in r]"
   ]
  },
  {
   "cell_type": "code",
   "execution_count": 51,
   "metadata": {},
   "outputs": [
    {
     "name": "stdout",
     "output_type": "stream",
     "text": [
      "1.21 µs ± 41.9 ns per loop (mean ± std. dev. of 7 runs, 1000000 loops each)\n"
     ]
    }
   ],
   "source": [
    "%timeit cakes(r, a)"
   ]
  },
  {
   "cell_type": "raw",
   "metadata": {},
   "source": [
    "Given an array of positive or negative integers\n",
    "\n",
    "I= [i1,..,in]\n",
    "\n",
    "you have to produce a sorted array P of the form\n",
    "\n",
    "[ [p, sum of all ij of I for which p is a prime factor (p positive) of ij] ...]\n",
    "\n",
    "P will be sorted by increasing order of the prime numbers. The final result has to be given as a string in Java, C#, C, C++ and as an array of arrays in other languages.\n",
    "\n",
    "Example:\n",
    "\n",
    "I = [12, 15] # result = [[2, 12], [3, 27], [5, 15]]\n",
    "[2, 3, 5] is the list of all prime factors of the elements of I, hence the result.\n",
    "\n",
    "Notes:\n",
    "\n",
    "It can happen that a sum is 0 if some numbers are negative!\n",
    "Example: I = [15, 30, -45] 5 divides 15, 30 and (-45) so 5 appears in the result, the sum of the numbers for which 5 is a factor is 0 so we have [5, 0] in the result amongst others.\n",
    "\n",
    "In Fortran - as in any other language - the returned string is not permitted to contain any redundant trailing whitespace: you can use dynamically allocated character strings."
   ]
  },
  {
   "cell_type": "code",
   "execution_count": 52,
   "metadata": {},
   "outputs": [],
   "source": [
    "def sum_for_list(a):\n",
    "    f = []\n",
    "    for x in a:\n",
    "        n = 2\n",
    "        while n <= abs(x):\n",
    "            if x % n == 0:  # if it is a factor...\n",
    "                if len([y for y in range(2, n - 1) if n % y == 0]) == 0:  # is it cleanly divisible by anything other than itself and 1?\n",
    "                    f.append([n, x])                        \n",
    "            n += 1\n",
    "    t = {z : 0 for z in set([x[0] for x in f])} # make a unique list of factors\n",
    "    for q in f:\n",
    "        t[q[0]] += q[1]  # find the fator in unique list for each one a add the input no. \n",
    "    return sorted([[k, v] for k, v in t.items()], key=lambda a : a[0])"
   ]
  },
  {
   "cell_type": "code",
   "execution_count": 53,
   "metadata": {},
   "outputs": [],
   "source": [
    "a1 = [12, 15]\n",
    "a2 = [-29804, -4209, -28265, -72769, -31744]"
   ]
  },
  {
   "cell_type": "code",
   "execution_count": 54,
   "metadata": {},
   "outputs": [
    {
     "data": {
      "text/plain": [
       "[[2, -61548],\n",
       " [3, -4209],\n",
       " [5, -28265],\n",
       " [23, -4209],\n",
       " [31, -31744],\n",
       " [53, -72769],\n",
       " [61, -4209],\n",
       " [1373, -72769],\n",
       " [5653, -28265],\n",
       " [7451, -29804]]"
      ]
     },
     "execution_count": 54,
     "metadata": {},
     "output_type": "execute_result"
    }
   ],
   "source": [
    "sum_for_list(a2)"
   ]
  },
  {
   "cell_type": "raw",
   "metadata": {},
   "source": [
    "The goal of this exercise is to convert a string to a new string where each character in the new string is \"(\" if that character appears only once in the original string, or \")\" if that character appears more than once in the original string. Ignore capitalization when determining if a character is a duplicate.\n",
    "\n",
    "Examples\n",
    "\"din\"      =>  \"(((\"\n",
    "\"recede\"   =>  \"()()()\"\n",
    "\"Success\"  =>  \")())())\"\n",
    "\"(( @\"     =>  \"))((\" \n",
    "Notes\n",
    "\n",
    "Assertion messages may be unclear about what they display in some languages. If you read \"...It Should encode XXX\", the \"XXX\" is the expected result, not the input!"
   ]
  },
  {
   "cell_type": "code",
   "execution_count": 55,
   "metadata": {},
   "outputs": [],
   "source": [
    "def duplicate_encode(word):\n",
    "    w = word.lower()\n",
    "    return ''.join([')' if w.count(x) > 1 else '(' for x in w])"
   ]
  },
  {
   "cell_type": "code",
   "execution_count": 56,
   "metadata": {},
   "outputs": [],
   "source": [
    "a = 'Success'"
   ]
  },
  {
   "cell_type": "code",
   "execution_count": 57,
   "metadata": {
    "scrolled": true
   },
   "outputs": [
    {
     "data": {
      "text/plain": [
       "')())())'"
      ]
     },
     "execution_count": 57,
     "metadata": {},
     "output_type": "execute_result"
    }
   ],
   "source": [
    "duplicate_encode(a)"
   ]
  },
  {
   "cell_type": "raw",
   "metadata": {},
   "source": [
    "Write a function named first_non_repeating_letter that takes a string input, and returns the first character that is not repeated anywhere in the string.\n",
    "\n",
    "For example, if given the input 'stress', the function should return 't', since the letter t only occurs once in the string, and occurs first in the string.\n",
    "\n",
    "As an added challenge, upper- and lowercase letters are considered the same character, but the function should return the correct case for the initial letter. For example, the input 'sTreSS' should return 'T'.\n",
    "\n",
    "If a string contains all repeating characters, it should return an empty string (\"\") or None -- see sample tests."
   ]
  },
  {
   "cell_type": "code",
   "execution_count": 58,
   "metadata": {},
   "outputs": [],
   "source": [
    "def first_non_repeating_letter(string):\n",
    "    if string == '': return ''\n",
    "    t = [x for x in string if string.lower().count(x.lower()) == 1]\n",
    "    return t[0] if t else ''"
   ]
  },
  {
   "cell_type": "code",
   "execution_count": 59,
   "metadata": {},
   "outputs": [],
   "source": [
    "s1 = 'moonmen'\n",
    "s2 = 'EngP96IVa8cV5Wu hcy9idNtm0 bzf4Od;VRSz GaDTR6Rdxw rqqy:Y2hod'"
   ]
  },
  {
   "cell_type": "code",
   "execution_count": 60,
   "metadata": {},
   "outputs": [
    {
     "data": {
      "text/plain": [
       "'E'"
      ]
     },
     "execution_count": 60,
     "metadata": {},
     "output_type": "execute_result"
    }
   ],
   "source": [
    "first_non_repeating_letter(s2)"
   ]
  },
  {
   "cell_type": "raw",
   "metadata": {},
   "source": [
    " Write the function that parses the mileage number input, and returns a 2 if the number is \"interesting\" (see below), a 1 if an interesting number occurs within the next two miles, or a 0 if the number is not interesting.\n",
    "\n",
    "Interesting numbers are 3-or-more digit numbers that meet one or more of the following criteria:\n",
    "\n",
    "Any digit followed by all zeros: 100, 90000\n",
    "Every digit is the same number: 1111\n",
    "The digits are sequential, incementing†: 1234\n",
    "The digits are sequential, decrementing‡: 4321\n",
    "The digits are a palindrome: 1221 or 73837\n",
    "The digits match one of the values in the awesome_phrases array\n",
    "† For incrementing sequences, 0 should come after 9, and not before 1, as in 7890. ‡ For decrementing sequences, 0 should come after 1, and not before 9, as in 3210."
   ]
  },
  {
   "cell_type": "code",
   "execution_count": 61,
   "metadata": {},
   "outputs": [],
   "source": [
    "def is_interesting(n, ap):\n",
    "    s = str(n)\n",
    "    sm = str(n + 1)\n",
    "    sp = str(n + 2)\n",
    "     \n",
    "    def divz(n):\n",
    "        try:\n",
    "            return int(n * (n / n))\n",
    "        except:\n",
    "            return 10\n",
    "        \n",
    "    def rev(r):\n",
    "        sl = [x for x in r]\n",
    "        sl.reverse()\n",
    "        return ''.join(sl)\n",
    "        \n",
    "    if n > 99:\n",
    "        if set(s[1:]) == {'0'}: return 2  # 'all 000000'\n",
    "        if n in ap:           return 2  # 'awesome'\n",
    "        if len(set(s)) == 1:  return 2  # 'all same'\n",
    "        if all([(divz(int(v)) == ((divz(int(s[0]) + i)) or divz((s[-1])))) for i, v in enumerate(s)]): return 2  # 'inc'\n",
    "        if all([(int(v) == (int(rev(s)[0]) + i)) for i, v in enumerate(rev(s))]): return 2\n",
    "        if all([(s[x] == s[y]) for x, y  in zip([f for f in range(0, len(s))], [z for z in range(-1, len(s)*-1, -1)])]): return 2  # 'pal'\n",
    "    if n + 1 > 99:\n",
    "        if set(sm[1:]) == {'0'}: return 1  # 'all 000000'\n",
    "        if n + 1 in ap:           return 1  # 'awesome'\n",
    "        if len(set(sm)) == 1:  return 1  # 'all same'\n",
    "        if all([(divz(int(v)) == ((divz(int(sm[0]) + i)) or divz((sm[-1])))) for i, v in enumerate(sm)]): return 1  # 'inc'\n",
    "        if all([(int(v) == (int(rev(sm)[0]) + i)) for i, v in enumerate(rev(sm))]): return 1\n",
    "        if all([(sm[x] == sm[y]) for x, y  in zip([f for f in range(0, len(sm))], [z for z in range(-1, len(sm) * -1, -1)])]): return 1  # 'pal'\n",
    "    if n + 2 > 99:\n",
    "        if set(sp[1:]) == {'0'}: return 1  # 'all 000000'\n",
    "        if n + 2 in ap:           return 1  # 'awesome'\n",
    "        if len(set(sp)) == 1:  return 1  # 'all same'\n",
    "        if all([(divz(int(v)) == ((divz(int(sp[0]) + i)) or divz((sp[-1])))) for i, v in enumerate(sp)]): return 1  # 'inc'\n",
    "        if all([(int(v) == (int(rev(sp)[0]) + i)) for i, v in enumerate(rev(sp))]): return 1\n",
    "        if all([(sp[x] == sp[y]) for x, y  in zip([f for f in range(0, len(sp))], [z for z in range(-1, len(sp) * -1, -1)])]): return 1  # 'pal'\n",
    "    \n",
    "    return 0"
   ]
  },
  {
   "cell_type": "code",
   "execution_count": 62,
   "metadata": {},
   "outputs": [],
   "source": [
    "def is_interesting(n, ap):\n",
    "    def divz(x):\n",
    "        try:\n",
    "            return int(x * (x / x))\n",
    "        except:\n",
    "            return 10\n",
    "        \n",
    "    def ret():\n",
    "        return 2 if m == n else 1  \n",
    "        \n",
    "    for m in range(n, n + 3):  # n + 3 because range works like a slice\n",
    "        s = str(m)\n",
    "        if m > 99:\n",
    "            if set(s[1:]) == {'0'}: return ret()  # 'all 000000'\n",
    "            if m in ap:             return ret()  # 'awesome'\n",
    "            if len(set(s)) == 1:    return ret()  # 'all same'\n",
    "            if all([(divz(int(v)) == ((divz(int(s[0]) + i)))) for i, v in enumerate(s)]): return ret()  # 'inc'\n",
    "            if all([(int(v) == (int(s[-1]) + i)) for i, v in enumerate(s[::-1])]): return ret()  # 'desc'\n",
    "            if s == s[::-1]:        return ret()  # 'pal'\n",
    "    return 0"
   ]
  },
  {
   "cell_type": "code",
   "execution_count": 63,
   "metadata": {},
   "outputs": [
    {
     "data": {
      "text/plain": [
       "'021'"
      ]
     },
     "execution_count": 63,
     "metadata": {},
     "output_type": "execute_result"
    }
   ],
   "source": [
    "'120'[::-1]"
   ]
  },
  {
   "cell_type": "code",
   "execution_count": 64,
   "metadata": {},
   "outputs": [
    {
     "name": "stdout",
     "output_type": "stream",
     "text": [
      "10\n"
     ]
    },
    {
     "data": {
      "text/plain": [
       "[(1, (1, 9)),\n",
       " (2, (2, 9)),\n",
       " (3, (3, 9)),\n",
       " (4, (4, 9)),\n",
       " (5, (5, 9)),\n",
       " (6, (6, 9)),\n",
       " (7, (7, 9)),\n",
       " (8, (8, 9)),\n",
       " (9, (9, 9))]"
      ]
     },
     "execution_count": 64,
     "metadata": {},
     "output_type": "execute_result"
    }
   ],
   "source": [
    "def divz(x):\n",
    "    try:\n",
    "        return int(x * (x / x))\n",
    "    except:\n",
    "        return 10\n",
    "s = '123456789'\n",
    "print(divz((s[-1])))\n",
    "[(divz(int(v)), ((divz(int(s[0]) + i)), divz(int(s[-1])))) for i, v in enumerate(s)]"
   ]
  },
  {
   "cell_type": "code",
   "execution_count": 65,
   "metadata": {},
   "outputs": [
    {
     "data": {
      "text/plain": [
       "2"
      ]
     },
     "execution_count": 65,
     "metadata": {},
     "output_type": "execute_result"
    }
   ],
   "source": [
    "is_interesting(222222, [1337, 256])"
   ]
  },
  {
   "cell_type": "code",
   "execution_count": 66,
   "metadata": {},
   "outputs": [],
   "source": [
    "def is_incrementing(number): return str(number) in '1234567890'\n",
    "def is_decrementing(number): return str(number) in '9876543210'\n",
    "def is_palindrome(number):   return str(number) == str(number)[::-1]\n",
    "def is_round(number):        return set(str(number)[1:]) == set('0')"
   ]
  },
  {
   "cell_type": "raw",
   "metadata": {},
   "source": [
    "Given the triangle of consecutive odd numbers:\n",
    "\n",
    "             1\n",
    "          3     5\n",
    "       7     9    11\n",
    "   13    15    17    19\n",
    "21    23    25    27    29\n",
    "...\n",
    "Calculate the row sums of this triangle from the row index (starting at index 1) e.g.:\n",
    "\n",
    "row_sum_odd_numbers(1); # 1\n",
    "row_sum_odd_numbers(2); # 3 + 5 = 8"
   ]
  },
  {
   "cell_type": "code",
   "execution_count": 67,
   "metadata": {},
   "outputs": [],
   "source": [
    "def row_sum_odd_numbers(n):\n",
    "    odd = 1\n",
    "    for r in range(1, n + 1):\n",
    "        t = []\n",
    "        while len(t) < r:\n",
    "            if odd % 2 != 0:\n",
    "                t.append(odd)\n",
    "            odd += 1\n",
    "    return sum(t)"
   ]
  },
  {
   "cell_type": "code",
   "execution_count": 68,
   "metadata": {},
   "outputs": [
    {
     "data": {
      "text/plain": [
       "[[], [1], [1]]"
      ]
     },
     "execution_count": 68,
     "metadata": {},
     "output_type": "execute_result"
    }
   ],
   "source": [
    "n = 3\n",
    "[[x for x in range(r) if x % 2 != 0] for r in range(1, n + 1)]"
   ]
  },
  {
   "cell_type": "code",
   "execution_count": 69,
   "metadata": {},
   "outputs": [
    {
     "data": {
      "text/plain": [
       "8"
      ]
     },
     "execution_count": 69,
     "metadata": {},
     "output_type": "execute_result"
    }
   ],
   "source": [
    "row_sum_odd_numbers(2)"
   ]
  },
  {
   "cell_type": "raw",
   "metadata": {},
   "source": [
    "You probably know the \"like\" system from Facebook and other pages. People can \"like\" blog posts, pictures or other items. We want to create the text that should be displayed next to such an item.\n",
    "\n",
    "Implement a function likes :: [String] -> String, which must take in input array, containing the names of people who like an item. It must return the display text as shown in the examples:\n",
    "\n",
    "likes [] // must be \"no one likes this\"\n",
    "likes [\"Peter\"] // must be \"Peter likes this\"\n",
    "likes [\"Jacob\", \"Alex\"] // must be \"Jacob and Alex like this\"\n",
    "likes [\"Max\", \"John\", \"Mark\"] // must be \"Max, John and Mark like this\"\n",
    "likes [\"Alex\", \"Jacob\", \"Mark\", \"Max\"] // must be \"Alex, Jacob and 2 others like this\""
   ]
  },
  {
   "cell_type": "code",
   "execution_count": 70,
   "metadata": {},
   "outputs": [],
   "source": [
    "def likes(n):\n",
    "    if len(n) == 0: return 'no one likes this'\n",
    "    if len(n) == 1: return f'{n[0]} likes this'\n",
    "    if len(n) == 2: return '{} and {} like this'.format(*n)\n",
    "    if len(n) == 3: return '{}, {} and {} like this'.format(*n)\n",
    "    if len(n) >= 4: return f'{n[0]}, {n[1]} and {len(n[2:])} others like this'"
   ]
  },
  {
   "cell_type": "code",
   "execution_count": 71,
   "metadata": {},
   "outputs": [
    {
     "name": "stdout",
     "output_type": "stream",
     "text": [
      "Max, John and 2 others like this\n"
     ]
    }
   ],
   "source": [
    "a1 = [\"Alex\", \"Jacob\", \"Mark\", \"Max\"]\n",
    "a2 = ['Max', 'John', 'Mark']\n",
    "# print('{}, {} and {} like this'.format(*a2))\n",
    "print(f'{a2[0]}, {a2[1]} and {len(a2[1:])} others like this')"
   ]
  },
  {
   "cell_type": "raw",
   "metadata": {},
   "source": [
    "The maximum sum subarray problem consists in finding the maximum sum of a contiguous subsequence in an array or list of integers:\n",
    "\n",
    "maxSequence([-2, 1, -3, 4, -1, 2, 1, -5, 4])\n",
    "# should be 6: [4, -1, 2, 1]\n",
    "Easy case is when the list is made up of only positive numbers and the maximum sum is the sum of the whole array. If the list is made up of only negative numbers, return 0 instead.\n",
    "\n",
    "Empty list is considered to have zero greatest sum. Note that the empty list or array is also a valid sublist/subarray."
   ]
  },
  {
   "cell_type": "code",
   "execution_count": 6,
   "metadata": {},
   "outputs": [],
   "source": [
    "def max_sequence(arr):\n",
    "    if max(set(arr)) <0 or not arr: return 0\n",
    "    t = []  # we'll get all poss lists in this table and then take the max sum\n",
    "    t.extend([('forwards', arr[:i + 1], sum(arr[:i + 1])) for i, v in enumerate(arr)])\n",
    "    t.extend([('backwards', arr[(len(arr) - 1) - i:], sum(arr[(len(arr) - 1) - i:]))for i, v in enumerate(arr)])\n",
    "    for x in range(1, len(arr)):\n",
    "        t.extend([(f'sets of {x} forwards', arr[i:i + x], sum(arr[i:i + x])) for i, v in enumerate(arr) if len(arr[i:i + x]) == x])\n",
    "        t.extend([(f'sets of {x} backwards', arr[i:i + x], sum(arr[i:i + x])) for i, v in enumerate(arr[::-1]) if len(arr[i:i + x]) == x])\n",
    "    return max(t, key=lambda a : a[2])"
   ]
  },
  {
   "cell_type": "code",
   "execution_count": 2,
   "metadata": {},
   "outputs": [],
   "source": [
    "arr = [-2, 1, -3, 4, -1, 2, 1, -5, 4]"
   ]
  },
  {
   "cell_type": "code",
   "execution_count": 7,
   "metadata": {
    "scrolled": false
   },
   "outputs": [
    {
     "data": {
      "text/plain": [
       "('sets of 4 forwards', [4, -1, 2, 1], 6)"
      ]
     },
     "execution_count": 7,
     "metadata": {},
     "output_type": "execute_result"
    }
   ],
   "source": [
    "max_sequence(arr)"
   ]
  },
  {
   "cell_type": "raw",
   "metadata": {},
   "source": [
    "chain calling function"
   ]
  },
  {
   "cell_type": "code",
   "execution_count": 75,
   "metadata": {},
   "outputs": [],
   "source": [
    "def add(a):\n",
    "    x = 0\n",
    "    x += a\n",
    "    class intish(int):\n",
    "        def __call__(self, z=None):\n",
    "            nonlocal x\n",
    "            return add(z + x)\n",
    "    return intish(x)"
   ]
  },
  {
   "cell_type": "code",
   "execution_count": 76,
   "metadata": {
    "scrolled": true
   },
   "outputs": [
    {
     "data": {
      "text/plain": [
       "9"
      ]
     },
     "execution_count": 76,
     "metadata": {},
     "output_type": "execute_result"
    }
   ],
   "source": [
    "add(3)(2)(4)"
   ]
  },
  {
   "cell_type": "code",
   "execution_count": 77,
   "metadata": {},
   "outputs": [],
   "source": [
    " def add(a):\n",
    "    class intish(int):\n",
    "        def __call__(self, z):\n",
    "            return add(z + a)\n",
    "    return intish(a)"
   ]
  },
  {
   "cell_type": "raw",
   "metadata": {},
   "source": [
    "Write a function that accepts a square matrix (N x N 2D array) and returns the determinant of the matrix.\n",
    "\n",
    "How to take the determinant of a matrix -- it is simplest to start with the smallest cases:\n",
    "\n",
    "A 1x1 matrix |a| has determinant a.\n",
    "\n",
    "A 2x2 matrix [ [a, b], [c, d] ] or\n",
    "\n",
    "|a  b|\n",
    "|c  d|\n",
    "has determinant: a*d - b*c.\n",
    "\n",
    "The determinant of an n x n sized matrix is calculated by reducing the problem to the calculation of the determinants of n matrices of n-1 x n-1 size.\n",
    "\n",
    "For the 3x3 case, [ [a, b, c], [d, e, f], [g, h, i] ] or\n",
    "\n",
    "|a b c|  \n",
    "|d e f|  \n",
    "|g h i|  \n",
    "the determinant is: a * det(a_minor) - b * det(b_minor) + c * det(c_minor) where det(a_minor) refers to taking the determinant of the 2x2 matrix created by crossing out the row and column in which the element a occurs:\n",
    "\n",
    "|- - -|\n",
    "|- e f|\n",
    "|- h i|  \n",
    "Note the alternation of signs.\n",
    "\n",
    "The determinant of larger matrices are calculated analogously, e.g. if M is a 4x4 matrix with first row [a, b, c, d], then:\n",
    "\n",
    "det(M) = a * det(a_minor) - b * det(b_minor) + c * det(c_minor) - d * det(d_minor)"
   ]
  },
  {
   "cell_type": "code",
   "execution_count": 380,
   "metadata": {},
   "outputs": [
    {
     "data": {
      "text/plain": [
       "(-20.0, 4.999999999999999, 5.0)"
      ]
     },
     "execution_count": 380,
     "metadata": {},
     "output_type": "execute_result"
    }
   ],
   "source": [
    "# 1 what is a determinant?\n",
    "# 2 1x1 may be an exit\n",
    "# 3 pandas? \n",
    "m1 = [[1, 3], [2,5]]\n",
    "m2 = [ [2,5,3], [1,-2,-1], [1, 3, 4]]\n",
    "def determinant(matrix):\n",
    "    import numpy as np\n",
    "    a = np.array(matrix)\n",
    "    return round((np.linalg.det(a))) # needs round as will return 4.999999999 instead of 5\n",
    "\n",
    "determinant(m2), np.linalg.det(np.array([[5]])), determinant([[5]])"
   ]
  },
  {
   "cell_type": "raw",
   "metadata": {},
   "source": [
    "Write a function called sumIntervals/sum_intervals() that accepts an array of intervals, and returns the sum of all the interval lengths. Overlapping intervals should only be counted once.\n",
    "\n",
    "Intervals\n",
    "Intervals are represented by a pair of integers in the form of an array. The first value of the interval will always be less than the second value. Interval example: [1, 5] is an interval from 1 to 5. The length of this interval is 4.\n",
    "\n",
    "Overlapping Intervals\n",
    "List containing overlapping intervals:\n",
    "\n",
    "[\n",
    "   [1,4],\n",
    "   [7, 10],\n",
    "   [3, 5]\n",
    "]\n",
    "The sum of the lengths of these intervals is 7. Since [1, 4] and [3, 5] overlap, we can treat the interval as [1, 5], which has a length of 4.\n",
    "\n",
    "Examples:\n",
    "sumIntervals( [\n",
    "   [1,2],\n",
    "   [6, 10],\n",
    "   [11, 15]\n",
    "] ); // => 9\n",
    "\n",
    "sumIntervals( [\n",
    "   [1,4],\n",
    "   [7, 10],\n",
    "   [3, 5]\n",
    "] ); // => 7\n",
    "\n",
    "sumIntervals( [\n",
    "   [1,5],\n",
    "   [10, 20],\n",
    "   [1, 6],\n",
    "   [16, 19],\n",
    "   [5, 11]\n",
    "] ); // => 19"
   ]
  },
  {
   "cell_type": "code",
   "execution_count": 269,
   "metadata": {
    "scrolled": true
   },
   "outputs": [
    {
     "name": "stdout",
     "output_type": "stream",
     "text": [
      "[[1, 5], [10, 20], [1, 6], [16, 19], [5, 11]]\n",
      "Sorted [[1, 5], [1, 6], [5, 11], [10, 20], [16, 19]]\n"
     ]
    },
    {
     "data": {
      "text/plain": [
       "19"
      ]
     },
     "execution_count": 269,
     "metadata": {},
     "output_type": "execute_result"
    }
   ],
   "source": [
    "intervals = [(1, 5)]\n",
    "intervals = [(1, 5), (6, 10)]\n",
    "intervals = [(1, 5), (1, 5)]\n",
    "intervals = [(1, 4), (7, 10), (3, 5)]\n",
    "intervals = [[1,5], [10, 20], [1, 6], [16, 19], [5, 11]]\n",
    "print(intervals)\n",
    "intervals.sort()\n",
    "print(f'Sorted {intervals}')\n",
    "# def sum_of_intervals(intervals):\n",
    "#     return\n",
    "\n",
    "# # 1 overlapping intervals combine\n",
    "# out = []\n",
    "# for n, a in enumerate(intervals):\n",
    "#     if n == len(intervals)-1: break\n",
    "# #     try:\n",
    "# #     print(f'{a[1]} == {intervals[n + 1][0]-1}')\n",
    "#     if a[1] == intervals[n + 1][0]-1:\n",
    "# #         print(f'equals {a}')\n",
    "#         out.append((a[0], intervals[n+1][1]))\n",
    "# #         print(f'out -> {out}')\n",
    "# #     except: print(f'fail on {a}') \n",
    "# out\n",
    "\n",
    "# let's modify in place\n",
    "\n",
    "# [ '' if n == len(intervals)-1\n",
    "#      else a if a[1] != intervals[n + 1][0]-1\n",
    "#      else (a[0], intervals[n+1][1])\n",
    "#      for n, a in enumerate(intervals)][:-1]\n",
    "# nope the over lapping ranges don;t mean 1,4 5,6 it may mean 1,5 3,7\n",
    "# how about list them all out with range\n",
    "# then split on if gap in numbs (poss with a marker then splti on marker and take max - min for each then sum)\n",
    "#1 sort then list out\n",
    "\n",
    "# # print(intervals)\n",
    "# # int1 = []\n",
    "# # for x, y in intervals:\n",
    "# #     int1.append(x)\n",
    "# #     int1.append(y)\n",
    "# # int1.sort()\n",
    "# # print(int1)\n",
    "\n",
    "# # this produces a boolean split mask\n",
    "# mask = [(x - int1[n]) >1 if int1[n] != int1[len(int1)-1] else True for n, x in enumerate(int1, start=-1)]\n",
    "# # do we do the maths in place or iterate though both lists\n",
    "# out = [[int1[0]]]\n",
    "# for x, y in zip(int1[:-1], int1[1:]):\n",
    "#         if y - x > 1:\n",
    "#             continue\n",
    "#         else:\n",
    "#             out.append(x)\n",
    "# print(out)\n",
    "\n",
    "# wht do I do?\n",
    "# look at first item second number is >= 1st number next item? if so next item becomes (min first, max next)\n",
    "# and remove first - also check if 1st item 2nd number is >= 2nd item 2nd number if so remove second item imstead\n",
    "# now look at new first item max no is >= 1st number next item? if so first item becomes (mins first, max next) '' ''\n",
    "# if not pop first item to out list and next item becomes the new first item\n",
    "# when there is no next item pop remaining current item and out out final list\n",
    "\n",
    "\n",
    "# for n, x in enumerate(intervals): # this gives us a way to get next item\n",
    "#     # is this last item? \n",
    "#     if x == intervals[-1]:\n",
    "#         out.append(intervals.pop(n)) # add to list remove\n",
    "#         break # and go may put return here\n",
    "# #     first item second number is >= 1st number next item\n",
    "#     if x[1] >= intervals[n+1][0]:\n",
    "# #     if so next item becomes (min first, max next) and remove first - tricky as how do we inplace modify??\n",
    "#         new_first = (x[0], intervals[n+1][1])\n",
    "#     # this bit failed from modify in place error\n",
    "# #         intervals.pop(0) # lose old first\n",
    "# #         intervals.pop(0) # lose old second\n",
    "# #         intervals.insert(0, new_first) # put in new first\n",
    "#     # so we will ???\n",
    "   \n",
    "#     # if not >= pop first item to out list and next item becomes the new first item\n",
    "#     else:\n",
    "#         out.append(intervals.pop(n))\n",
    "        \n",
    "# the issue above is moving through the list we are no longer at point one - let's try an iterator or a while\n",
    "### this works\n",
    "# combined = [] # final list\n",
    "# while intervals:\n",
    "#         # is this last item? \n",
    "#     if len(intervals) == 1: # assuming it counts the last tuple as 1 not 2\n",
    "#         combined.append(intervals.pop(0)) # add to list remove\n",
    "#         break\n",
    "        \n",
    "# #     look at first item second number is >= 1st number next item?\n",
    "#     if intervals[0][1] >= intervals[1][0]:\n",
    "#         # do the is 1st big also bigger than 2nd big\n",
    "#         if intervals[0][1] >= intervals[1][1]:\n",
    "# #             remove next item and continue\n",
    "#             intervals.pop(1)\n",
    "#             continue\n",
    "# #     if so next item becomes (min first, max next) and remove first & next\n",
    "#         new_first = (intervals[0][0], intervals[1][1])\n",
    "#         intervals.pop(0) # lose old first\n",
    "#         intervals.pop(0) # lose old second\n",
    "#         intervals.insert(0, new_first) # put in new first\n",
    "        \n",
    "# #     # if not >= pop first item to out list and next item becomes the new first item\n",
    "#     else:\n",
    "#         combined.append(intervals.pop(0))\n",
    "# print(combined)\n",
    "\n",
    "# return_val = sum(y - x for x, y in combined)\n",
    "# return_val\n",
    "\n",
    "# how about where intervals[0][1]is also > intervals[1][1]\n",
    "\n",
    "def sum_of_intervals(intervals):\n",
    "    '''look at first item second number is >= 1st number next item? if so next item becomes (min first, max next) and remove first\n",
    "    now look at new first item max no is >= 1st number next item? if so first item becomes (mins first, max next) '' ''\n",
    "    if not pop\n",
    "    first item to out list and next item becomes the new first item\n",
    "    when there is no next item pop remaining current item and out out final list'''\n",
    "\n",
    "    #     we need an ordered list for this to work\n",
    "    intervals.sort()\n",
    "    combined = [] # final list\n",
    "\n",
    "    while intervals:\n",
    "    #     is this last item? \n",
    "        if len(intervals) == 1: # assuming it counts the last tuple as 1 not 2\n",
    "            combined.append(intervals.pop(0)) # add to list remove\n",
    "            continue\n",
    "\n",
    "    #     look at first item second number is >= 1st number next item?\n",
    "        if intervals[0][1] >= intervals[1][0]:\n",
    "            # do the is 1st big also bigger than 2nd big\n",
    "            if intervals[0][1] >= intervals[1][1]:\n",
    "    #             remove next item and continue\n",
    "                intervals.pop(1)\n",
    "                continue\n",
    "    #     if so next item becomes (min first, max next) and remove first & next\n",
    "            new_first = (intervals[0][0], intervals[1][1])\n",
    "            intervals.pop(0) # lose old first\n",
    "            intervals.pop(0) # lose old second\n",
    "            intervals.insert(0, new_first) # put in new first\n",
    "\n",
    "    #     # if not >= pop first item to out list and next item becomes the new first item\n",
    "        else:\n",
    "            combined.append(intervals.pop(0))\n",
    "    return   sum(y - x for x, y in combined)\n",
    "\n",
    "\n",
    "\n",
    "sum_of_intervals(intervals)\n",
    "\n"
   ]
  },
  {
   "cell_type": "raw",
   "metadata": {},
   "source": [
    "def sum_of_intervals(intervals):\n",
    "    s, top = 0, float(\"-inf\")\n",
    "        for a,b in sorted(intervals):\n",
    "            if top < a: top    = a\n",
    "            if top < b: s, top = s+b-top, b\n",
    "        return s\n",
    "\n",
    "#loop 1\n",
    "s = 0 top = -inf\n",
    "a = 1 b = 5\n",
    "top = 1\n",
    "s = 0+5-1 = 4 top = 5\n",
    "loop 2\n",
    "a = 1 b = 6\n",
    "top = 5\n",
    "s = 4+6-5 = 5 top = 6\n",
    "loop 3\n",
    "a = 5 b = 11\n",
    "s = 5+11-6 = 10 top = 11\n",
    "loop 4\n",
    "a = 10 b = 20\n",
    "top = 11\n",
    "s = 10 + 20 - 11 = 19 top = 20\n",
    "loop 5\n",
    "a = 16 b = 19\n",
    "top = 20\n",
    "\n",
    "return s = 19"
   ]
  },
  {
   "cell_type": "code",
   "execution_count": null,
   "metadata": {},
   "outputs": [],
   "source": [
    "\n",
    "def sum_of_intervals(intervals):\n",
    "    return len(set([n for (a, b) in intervals for n in [i for i in range(a, b)]]))\n"
   ]
  },
  {
   "cell_type": "code",
   "execution_count": 275,
   "metadata": {
    "scrolled": true
   },
   "outputs": [
    {
     "data": {
      "text/plain": [
       "[1,\n",
       " 2,\n",
       " 3,\n",
       " 4,\n",
       " 10,\n",
       " 11,\n",
       " 12,\n",
       " 13,\n",
       " 14,\n",
       " 15,\n",
       " 16,\n",
       " 17,\n",
       " 18,\n",
       " 19,\n",
       " 1,\n",
       " 2,\n",
       " 3,\n",
       " 4,\n",
       " 5,\n",
       " 16,\n",
       " 17,\n",
       " 18,\n",
       " 5,\n",
       " 6,\n",
       " 7,\n",
       " 8,\n",
       " 9,\n",
       " 10]"
      ]
     },
     "execution_count": 275,
     "metadata": {},
     "output_type": "execute_result"
    }
   ],
   "source": [
    "intervals = [[1,5], [10, 20], [1, 6], [16, 19], [5, 11]]\n",
    "[n for (a, b) in intervals for n in [i for i in range(a, b)]]\n",
    "\n",
    "# above is the same as\n",
    "for (a, b) in intervals:\n",
    "    for n in range(a,b):\n",
    "        print(n)\n",
    "# so you get the full list of all ranges then you reduce it so as to get the combined list\n",
    "# the length of course has the sum of all the intervals!!!"
   ]
  },
  {
   "cell_type": "code",
   "execution_count": null,
   "metadata": {},
   "outputs": [],
   "source": [
    "# cleaned up version\n",
    "def sum_of_intervals(intervals):\n",
    "    intervals.sort()\n",
    "    combined = []\n",
    "    while intervals:\n",
    "        if len(intervals) == 1:\n",
    "            combined.append(intervals.pop(0)) \n",
    "            continue\n",
    "        if intervals[0][1] >= intervals[1][0]:\n",
    "            if intervals[0][1] >= intervals[1][1]:\n",
    "                intervals.pop(1)\n",
    "                continue\n",
    "            new_first = (intervals[0][0], intervals[1][1])\n",
    "            intervals.pop(0)\n",
    "            intervals.pop(0)\n",
    "            intervals.insert(0, new_first)\n",
    "        else:\n",
    "            combined.append(intervals.pop(0))\n",
    "    return   sum(y - x for x, y in combined)"
   ]
  },
  {
   "cell_type": "raw",
   "metadata": {},
   "source": [
    "I assume most of you are familiar with the ancient legend of the rice (but I see wikipedia suggests wheat, for some reason) problem, but a quick recap for you: a young man asks as a compensation only 1 grain of rice for the first square, 2 grains for the second, 4 for the third, 8 for the fourth and so on, always doubling the previous.\n",
    "\n",
    "Your task is pretty straightforward (but not necessarily easy): given an amount of grains, you need to return up to which square of the chessboard one should count in order to get at least as many.\n",
    "\n",
    "As usual, a few examples might be way better than thousands of words from me:\n",
    "\n",
    "squares_needed(0) == 0\n",
    "squares_needed(1) == 1\n",
    "squares_needed(2) == 2\n",
    "squares_needed(3) == 2\n",
    "squares_needed(4) == 3\n",
    "Input is always going to be valid/reasonable: ie: a non negative number; extra cookie for not using a loop to compute square-by-square (at least not directly) and instead trying a smarter approach [hint: some peculiar operator]; a trick converting the number might also work: impress me!"
   ]
  },
  {
   "cell_type": "code",
   "execution_count": null,
   "metadata": {},
   "outputs": [],
   "source": [
    "grains = 4\n",
    "\n",
    "# def squares_needed(grains):\n",
    "# there is nearly certainyly some mathsy way to do this with powers, square roots etc..\n",
    "# ideas how about do the full list of multiples and then get the place in the list with the nearest higher number of grains\n",
    "# "
   ]
  },
  {
   "cell_type": "code",
   "execution_count": 277,
   "metadata": {},
   "outputs": [
    {
     "data": {
      "text/plain": [
       "65536"
      ]
     },
     "execution_count": 277,
     "metadata": {},
     "output_type": "execute_result"
    }
   ],
   "source": [
    "2 ** 16"
   ]
  },
  {
   "cell_type": "code",
   "execution_count": 284,
   "metadata": {},
   "outputs": [
    {
     "data": {
      "text/plain": [
       "2"
      ]
     },
     "execution_count": 284,
     "metadata": {},
     "output_type": "execute_result"
    }
   ],
   "source": [
    "2 ** 1"
   ]
  },
  {
   "cell_type": "markdown",
   "metadata": {},
   "source": [
    "Sn = the sum of the squares p is the no we start with although we start with 1...<br>\n",
    "n is the no of suqares<br>\n",
    "$S_n = \\frac{P^{n+1}-1}{P-1}$"
   ]
  },
  {
   "cell_type": "code",
   "execution_count": 303,
   "metadata": {},
   "outputs": [
    {
     "data": {
      "text/plain": [
       "3"
      ]
     },
     "execution_count": 303,
     "metadata": {},
     "output_type": "execute_result"
    }
   ],
   "source": [
    "def squares_needed(grains):\n",
    "    \n",
    "    def sum_of_squares(sqr):\n",
    "        return ((2**(sqr))-1)/(2-1)\n",
    "    \n",
    "    sqr = 0\n",
    "    while True:\n",
    "        if sum_of_squares(sqr) >= grains:\n",
    "            return sqr\n",
    "            break\n",
    "        sqr += 1\n",
    "\n",
    "squares_needed(4)         "
   ]
  },
  {
   "cell_type": "markdown",
   "metadata": {},
   "source": [
    "In this Kata, you will be given a string of numbers in sequence and your task will be to return the missing number. If there is no number missing or there is an error in the sequence, return -1.\n",
    "\n",
    "For example:\n",
    "\n",
    "missing(\"123567\") = 4 \n",
    "missing(\"899091939495\") = 92\n",
    "missing(\"9899101102\") = 100\n",
    "missing(\"599600601602\") = -1 -- no number missing\n",
    "missing(\"8990919395\") = -1 -- error in sequence. Both 92 and 94 missing.\n",
    "The sequence will always be in ascending order.\n",
    "\n",
    "More examples in the test cases."
   ]
  },
  {
   "cell_type": "code",
   "execution_count": 379,
   "metadata": {
    "scrolled": true
   },
   "outputs": [
    {
     "name": "stdout",
     "output_type": "stream",
     "text": [
      "12\n",
      "x 1\n",
      "test_list ['8', '9', '9', '0', '9', '1', '9', '3', '9', '4', '9', '5']\n",
      "[-4, 5, -5, 6, -6, 8, -8, 9, -9, 0, 1]\n",
      "x 2\n",
      "test_list ['89', '90', '91', '93', '94', '95']\n",
      "[1, 1, 2, 1, 1]\n",
      "Return 92\n"
     ]
    }
   ],
   "source": [
    "# thing 1 recognise what the base is single digits double etc... \n",
    "# when I do it in my head I compare two singles if not +1 or +2 then commpare tens until match\n",
    "# however 89 90 looks ok at first so I have to check in a few spots\n",
    "# how do we know that 123567 is not a complete sequence of 1 123,567? we have to assume more than one number,\n",
    "# how do we know 8990919395 is not an error sequence of 8900 919395 with 919395 - 8900 missing numbers?\n",
    "# let's say that given a sequence z of n length and a subset of items x\n",
    "# x1,x2,x3..n/len(x) where the cumlative subtraction of z[::-1] = len(z)+1 and len(x) <= len(z)/2\n",
    "# so we know when to stop n and what correct looks like\n",
    "# we would have to iterate though all lenghts of x while len(x) <=n/2\n",
    "# we need to get len z\n",
    "# given size x how do we iterate through z?\n",
    "# [z[:x]] for x in range(1, len(z)/2+1)] # hmm kinda\n",
    "# maybe get some x's first then set slices\n",
    "z = '899091939495'\n",
    "# z = '9899101102'\n",
    "print(len(z))\n",
    "MaxChunks = len(z)//2+1\n",
    "# xList = [x for x in range(1, MaxChunks)] # floor div shouldbe fine cos if we have 5 items we don't want the first int len(3)\n",
    "# so we have our xs. what does the slice look like?\n",
    "# the slice will be of size x. we take x from xList iterate MaxChunks amount of times\n",
    "# x = 2\n",
    "# [z[i:i+x] for i in range(0, MaxChunks)] # seems to work - kinda!!\n",
    "for x in range(1, MaxChunks):\n",
    "    print(f'x {x}')\n",
    "    print(f'test_list {[z[i:i+x] for i in range(0, len(z), x)]}') # a bit of jamming here! \n",
    "    test_list = [z[i:i+x] for i in range(0, len(z), x)]\n",
    "# reverse cumulative subtraction\n",
    "# need to turn to integers\n",
    "    print([(int(test_list[n]) - int(test_list[(n-1)])) for n in range(len(test_list)-1, 0, -1)])\n",
    "    cum_sub_list = [(int(test_list[n]) - int(test_list[(n-1)])) for n in range(len(test_list)-1, 0, -1)]\n",
    "# ok so now we want to check if it is 1 2 and len(test_list)-1 1s or not = -1\n",
    "    if cum_sub_list.count(2) == 1 and cum_sub_list.count(1) == len(cum_sub_list) - 2:\n",
    "# we need to find the missing number\n",
    "        print(f'Return {int(test_list[cum_sub_list.index(2)])+1}')\n",
    "        break\n",
    "# we would Return -1 if this loop finishes without a return so done\n",
    "\n",
    "def missing(seq):\n",
    "    max_chunks = len(seq) // 2 + 1\n",
    "    for x in range(1, max_chunks):\n",
    "        test_list = [seq[i:i + x] for i in range(0, len(seq), x)]\n",
    "        cum_sub_list = [(int(test_list[n]) - int(test_list[(n - 1)])) for n in range(len(test_list) - 1, 0, -1)]\n",
    "        if cum_sub_list.count(2) == 1 and cum_sub_list.count(1) == len(cum_sub_list) - 2:\n",
    "            return int(test_list[cum_sub_list.index(2)]) + 1\n",
    "    return -1\n",
    "# this wont work when we go 99 -> 100....\n",
    "# perhaps go through the x bit but take the first slice and does + 1 or +2 == next slice or next next slice\n",
    "# poss if slice 1 + 1 = slice 2 cntr += 0 if cntr "
   ]
  }
 ],
 "metadata": {
  "kernelspec": {
   "display_name": "Python 3",
   "language": "python",
   "name": "python3"
  },
  "language_info": {
   "codemirror_mode": {
    "name": "ipython",
    "version": 3
   },
   "file_extension": ".py",
   "mimetype": "text/x-python",
   "name": "python",
   "nbconvert_exporter": "python",
   "pygments_lexer": "ipython3",
   "version": "3.7.3"
  }
 },
 "nbformat": 4,
 "nbformat_minor": 2
}
