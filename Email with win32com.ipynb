{
 "cells": [
  {
   "cell_type": "code",
   "execution_count": null,
   "metadata": {
    "scrolled": true
   },
   "outputs": [],
   "source": [
    "import sys, win32com.client, os, re, datetime, inspect, msal, flask"
   ]
  },
  {
   "cell_type": "code",
   "execution_count": null,
   "metadata": {},
   "outputs": [],
   "source": [
    "inspect.getfile(msal)"
   ]
  },
  {
   "cell_type": "markdown",
   "metadata": {},
   "source": [
    "### Get the outlook object"
   ]
  },
  {
   "cell_type": "code",
   "execution_count": null,
   "metadata": {},
   "outputs": [],
   "source": [
    "outlook = win32com.client.Dispatch(\"Outlook.Application\").GetNamespace(\"MAPI\")\n",
    "outlook"
   ]
  },
  {
   "cell_type": "markdown",
   "metadata": {},
   "source": [
    "#### We are now operating in the .COM object model. "
   ]
  },
  {
   "cell_type": "code",
   "execution_count": null,
   "metadata": {},
   "outputs": [],
   "source": [
    "for x in outlook.Folders:\n",
    "    print(x)"
   ]
  },
  {
   "cell_type": "code",
   "execution_count": null,
   "metadata": {},
   "outputs": [],
   "source": [
    "outlook.Folders[0], repr(outlook.Folders[0]), print(outlook.Folders[0])"
   ]
  },
  {
   "cell_type": "code",
   "execution_count": null,
   "metadata": {},
   "outputs": [],
   "source": [
    "for x in outlook.Folders:\n",
    "    print(x)\n",
    "    for y in outlook.Folders(f'{x}').Folders:\n",
    "        print(y)"
   ]
  },
  {
   "cell_type": "code",
   "execution_count": null,
   "metadata": {
    "scrolled": false
   },
   "outputs": [],
   "source": [
    "for x in outlook.Folders:\n",
    "    print('lvl 1 - ', x)\n",
    "    for y in outlook.Folders(f'{x}').Folders:\n",
    "        print('lvl 2   - ', y)\n",
    "        cnt = 0\n",
    "        for z in outlook.Folders(f'{x}').Folders(f'{y}').items:\n",
    "            cnt += 1\n",
    "            if cnt == 5: break\n",
    "            print('lvl 3     - ', z)"
   ]
  },
  {
   "cell_type": "markdown",
   "metadata": {},
   "source": [
    "## An example set up"
   ]
  },
  {
   "cell_type": "code",
   "execution_count": null,
   "metadata": {},
   "outputs": [],
   "source": [
    "## set up outlook folder\n",
    "try:\n",
    "    outlook = win32com.client.Dispatch(\"Outlook.Application\").GetNamespace(\"MAPI\")\n",
    "    folder = outlook.Folders('Survey Support')\n",
    "    inbox = folder.Folders('Mars Water SS')  # ('Go Ahead')\n",
    "#    rplyf = inbox.Folders# ('Go Ahead - Replied')\n",
    "    resf = inbox.Folders('Mars Water Dealt With') # ('Go Ahead - Resolved')\n",
    "    msgs = inbox.Items\n",
    "except Exception as e:\n",
    "    print('Exception -',e)"
   ]
  },
  {
   "cell_type": "code",
   "execution_count": null,
   "metadata": {},
   "outputs": [],
   "source": [
    "print('Number of Emails in Inbox',len(msgs))"
   ]
  },
  {
   "cell_type": "code",
   "execution_count": null,
   "metadata": {
    "scrolled": true
   },
   "outputs": [],
   "source": [
    "# SET A DATE FILTER\n",
    "\n",
    "date_filter_unformated = datetime.date.today() - datetime.timedelta(days = 100)  \n",
    "date_filter = date_filter_unformated.strftime('%d-%m-%y')\n",
    "print('Date Filter - ',date_filter)\n",
    "sFilter = \"[ReceivedTime] > '{0} 11:59 PM'\".format(date_filter)\n",
    "fmsgs = msgs.Restrict(sFilter)\n",
    "print('Number of Selected Emails', len(fmsgs))"
   ]
  },
  {
   "cell_type": "code",
   "execution_count": null,
   "metadata": {
    "scrolled": true
   },
   "outputs": [],
   "source": [
    "for msg in fmsgs:\n",
    "    # print('Subject - {:30} - Sender {:<45} - Categories- {:<20}'.format(msg.Subject, msg.SenderEmailAddress, msg.Categories))\n",
    "    print(msg.SenderEmailAddress+';')\n",
    "      "
   ]
  },
  {
   "cell_type": "code",
   "execution_count": null,
   "metadata": {},
   "outputs": [],
   "source": [
    "len(fmsgs)"
   ]
  },
  {
   "cell_type": "code",
   "execution_count": null,
   "metadata": {
    "scrolled": true
   },
   "outputs": [],
   "source": [
    "for m in fmsgs:\n",
    "#    print(\"'{}',\".format(m.SenderEmailAddress))\n",
    "   print(\"{}, {}\".format(m.Sender, m.SenderEmailAddress))"
   ]
  },
  {
   "cell_type": "code",
   "execution_count": null,
   "metadata": {},
   "outputs": [],
   "source": [
    "# clsvr = \"sql.orcsurvey.co.uk\"\n",
    "# cldb = \"TSG_Sample\"\n",
    "db_tbl = \"UK3001264_Kelda_YW\"\n",
    "# fld = \"\"\n",
    "\n",
    "# cstr = 'Driver={SQL Server};Server='+clsvr+';Database='+cldb+';Trusted_Connection=yes;'\n",
    "\n",
    "# conn = pyodbc.connect(cstr)\n",
    "# cursor = conn.cursor()\n"
   ]
  },
  {
   "cell_type": "code",
   "execution_count": null,
   "metadata": {},
   "outputs": [],
   "source": [
    "# for msg in msgs:\n",
    "# #      print('Date - {} | Subject - {:<30} | Sender - {:<40} | Cat- {:<20}'.format(msg.ReceivedTime.date(), msg.Subject, msg.SenderEmailAddress, msg.Categories))\n",
    "#     if msg not in fmsgs:\n",
    "#         msg.Categories = 'Responded'\n",
    "#         msg.Save\n",
    "#         msg.Move(inbox.Folders('Go Ahead - Replied'))"
   ]
  },
  {
   "cell_type": "code",
   "execution_count": null,
   "metadata": {
    "scrolled": true
   },
   "outputs": [],
   "source": [
    "[print(x.sender) for x in msgs if 'not received' in x.body]"
   ]
  },
  {
   "cell_type": "code",
   "execution_count": null,
   "metadata": {},
   "outputs": [],
   "source": [
    "rx = ''"
   ]
  },
  {
   "cell_type": "code",
   "execution_count": null,
   "metadata": {},
   "outputs": [],
   "source": [
    "[ print(x.SenderEmailAddress, ';') for x in msgs]"
   ]
  },
  {
   "cell_type": "code",
   "execution_count": null,
   "metadata": {},
   "outputs": [],
   "source": [
    "tbl = []\n",
    "for msg in msgs:\n",
    "    t = []\n",
    "    if msg.SenderEmailAddress[0] == r\"/\":\n",
    "        ematch = re.search(r'[\\w\\.-]+@[\\w\\.-]+', msg.body)\n",
    "#         print(msg.senderemailaddress)\n",
    "#         print('Subject - ', msg)\n",
    "#         print('Body   -  ', msg.body[:200])\n",
    "#         print(match.group(0))\n",
    "        t.append(ematch.group(0) + ';')\n",
    "        t.append(msg.subject)\n",
    "        t.append(msg.body)\n",
    "        tbl.append(t)\n",
    "#         print(' #===========#')\n",
    "    else:\n",
    "        t.append(msg.senderemailaddress + ';')\n",
    "        t.append(msg.subject)\n",
    "        t.append(msg.body)\n",
    "        tbl.append(t)"
   ]
  },
  {
   "cell_type": "code",
   "execution_count": null,
   "metadata": {
    "scrolled": true
   },
   "outputs": [],
   "source": [
    "for x in tbl:\n",
    "    print('from:', x[0], 'Subject:' , x[1], '\\nBody -->', x[2][:100])  # .replace('\\n', ' | ')\n",
    "    print('--------------------------------------')"
   ]
  },
  {
   "cell_type": "code",
   "execution_count": null,
   "metadata": {},
   "outputs": [],
   "source": [
    "x[2]"
   ]
  },
  {
   "cell_type": "code",
   "execution_count": null,
   "metadata": {},
   "outputs": [],
   "source": [
    "for x in tbl:\n",
    "    if 'resend' in x[2]:\n",
    "        print(x[0], x[1], x[2])\n",
    "        print(' --------------------------------- ')"
   ]
  }
 ],
 "metadata": {
  "kernelspec": {
   "display_name": "Python 3",
   "language": "python",
   "name": "python3"
  },
  "language_info": {
   "codemirror_mode": {
    "name": "ipython",
    "version": 3
   },
   "file_extension": ".py",
   "mimetype": "text/x-python",
   "name": "python",
   "nbconvert_exporter": "python",
   "pygments_lexer": "ipython3",
   "version": "3.7.3"
  }
 },
 "nbformat": 4,
 "nbformat_minor": 2
}
